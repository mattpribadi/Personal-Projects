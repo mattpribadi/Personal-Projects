{
 "cells": [
  {
   "cell_type": "markdown",
   "id": "f5f892ed",
   "metadata": {
    "_cell_guid": "b1076dfc-b9ad-4769-8c92-a6c4dae69d19",
    "_uuid": "8f2839f25d086af736a60e9eeb907d3b93b6e0e5",
    "papermill": {
     "duration": 0.007526,
     "end_time": "2022-09-01T05:03:57.703039",
     "exception": false,
     "start_time": "2022-09-01T05:03:57.695513",
     "status": "completed"
    },
    "tags": []
   },
   "source": [
    "# Problem #2 – Create a Property Database\n",
    "\n",
    "## By: Matthew Pribadi\n",
    "\n",
    "\n",
    "Datasets\n",
    "- [Data Center Map](https://www.datacentermap.com/usa/)\n",
    "- [Data Center World Map](https://map.datacente.rs)"
   ]
  },
  {
   "cell_type": "markdown",
   "id": "aedff0ab",
   "metadata": {
    "execution": {
     "iopub.execute_input": "2022-09-01T04:34:30.845441Z",
     "iopub.status.busy": "2022-09-01T04:34:30.844563Z",
     "iopub.status.idle": "2022-09-01T04:34:30.855788Z",
     "shell.execute_reply": "2022-09-01T04:34:30.854106Z",
     "shell.execute_reply.started": "2022-09-01T04:34:30.845392Z"
    },
    "papermill": {
     "duration": 0.005749,
     "end_time": "2022-09-01T05:03:57.714968",
     "exception": false,
     "start_time": "2022-09-01T05:03:57.709219",
     "status": "completed"
    },
    "tags": []
   },
   "source": [
    "### Objective: \n",
    "\n",
    "The main motivation for this project is to utilize python scripting to scrape publicly available data sources for data centers and generate a data center database with locations and size/output. The goal is to create a file format with locations, power consumption, and real estate footprint to enable better business intelligence in deciding where to next build a data center.\n",
    "<br><br>\n",
    "\n",
    "#### Assumptions/Limitations\n",
    "- I assume These data centers are still operational\n",
    "- I trust my python libraries for longitutde and latitude, though I did verify a few locations to be sure\n",
    "- I had to write a manual script to parse through each page and pull data into a pandas data frame, some limitation on scraping all the data possible in a short amount of time\n",
    "- The database I found for square footage and gross power use also had to be scraped from a different website and they had different names for each "
   ]
  },
  {
   "cell_type": "markdown",
   "id": "e595b4eb",
   "metadata": {
    "papermill": {
     "duration": 0.005655,
     "end_time": "2022-09-01T05:03:57.726695",
     "exception": false,
     "start_time": "2022-09-01T05:03:57.721040",
     "status": "completed"
    },
    "tags": []
   },
   "source": [
    "## Import packages"
   ]
  },
  {
   "cell_type": "code",
   "execution_count": 1,
   "id": "c8e2962d",
   "metadata": {
    "execution": {
     "iopub.execute_input": "2022-09-01T05:03:57.740957Z",
     "iopub.status.busy": "2022-09-01T05:03:57.739783Z",
     "iopub.status.idle": "2022-09-01T05:03:58.793458Z",
     "shell.execute_reply": "2022-09-01T05:03:58.792108Z"
    },
    "papermill": {
     "duration": 1.063842,
     "end_time": "2022-09-01T05:03:58.796373",
     "exception": false,
     "start_time": "2022-09-01T05:03:57.732531",
     "status": "completed"
    },
    "tags": []
   },
   "outputs": [],
   "source": [
    "# general\n",
    "import io\n",
    "import os\n",
    "import requests\n",
    "import warnings\n",
    "import re\n",
    "\n",
    "# file handling\n",
    "from requests.auth import HTTPBasicAuth\n",
    "from zipfile import ZipFile\n",
    "from pathlib import Path  \n",
    "\n",
    "# Data Science Libraries\n",
    "import datetime\n",
    "import numpy as np\n",
    "import pandas as pd\n",
    "\n",
    "from geopy.geocoders import Nominatim\n",
    "from geopy.exc import GeocoderTimedOut\n",
    "\n",
    "# General plotting\n",
    "import matplotlib.pyplot as plt\n",
    "import pydot\n",
    "import seaborn as sns"
   ]
  },
  {
   "cell_type": "markdown",
   "id": "65560b3f",
   "metadata": {
    "papermill": {
     "duration": 0.005765,
     "end_time": "2022-09-01T05:03:58.808050",
     "exception": false,
     "start_time": "2022-09-01T05:03:58.802285",
     "status": "completed"
    },
    "tags": []
   },
   "source": [
    "## Read Data, Cleaning and Preprocessing "
   ]
  },
  {
   "cell_type": "code",
   "execution_count": 2,
   "id": "fd359ca1",
   "metadata": {
    "execution": {
     "iopub.execute_input": "2022-09-01T05:03:58.822751Z",
     "iopub.status.busy": "2022-09-01T05:03:58.821560Z",
     "iopub.status.idle": "2022-09-01T05:03:58.847024Z",
     "shell.execute_reply": "2022-09-01T05:03:58.846031Z"
    },
    "papermill": {
     "duration": 0.035333,
     "end_time": "2022-09-01T05:03:58.849580",
     "exception": false,
     "start_time": "2022-09-01T05:03:58.814247",
     "status": "completed"
    },
    "tags": []
   },
   "outputs": [],
   "source": [
    "df_usa = pd.read_csv('../input/usa-cities/usa_cities.csv')\n",
    "city_state = df_usa[['city','province']].values.tolist()"
   ]
  },
  {
   "cell_type": "code",
   "execution_count": 3,
   "id": "78d85bfb",
   "metadata": {
    "execution": {
     "iopub.execute_input": "2022-09-01T05:03:58.863925Z",
     "iopub.status.busy": "2022-09-01T05:03:58.862965Z",
     "iopub.status.idle": "2022-09-01T05:03:58.867996Z",
     "shell.execute_reply": "2022-09-01T05:03:58.867007Z"
    },
    "papermill": {
     "duration": 0.01446,
     "end_time": "2022-09-01T05:03:58.870322",
     "exception": false,
     "start_time": "2022-09-01T05:03:58.855862",
     "status": "completed"
    },
    "tags": []
   },
   "outputs": [],
   "source": [
    "url_domain = 'https://www.datacentermap.com/usa/'\n",
    "url_tail = '/datacenters.html'"
   ]
  },
  {
   "cell_type": "markdown",
   "id": "8bc3a245",
   "metadata": {
    "papermill": {
     "duration": 0.005698,
     "end_time": "2022-09-01T05:03:58.882004",
     "exception": false,
     "start_time": "2022-09-01T05:03:58.876306",
     "status": "completed"
    },
    "tags": []
   },
   "source": [
    "#### Test Script"
   ]
  },
  {
   "cell_type": "code",
   "execution_count": 4,
   "id": "44333c70",
   "metadata": {
    "execution": {
     "iopub.execute_input": "2022-09-01T05:03:58.896286Z",
     "iopub.status.busy": "2022-09-01T05:03:58.895444Z",
     "iopub.status.idle": "2022-09-01T05:03:58.905731Z",
     "shell.execute_reply": "2022-09-01T05:03:58.904525Z"
    },
    "papermill": {
     "duration": 0.020044,
     "end_time": "2022-09-01T05:03:58.908104",
     "exception": false,
     "start_time": "2022-09-01T05:03:58.888060",
     "status": "completed"
    },
    "tags": []
   },
   "outputs": [
    {
     "data": {
      "text/plain": [
       "[['Calais', 'Maine'],\n",
       " ['Houlton', 'Maine'],\n",
       " ['Presque Isle', 'Maine'],\n",
       " ['Bar Harbor', 'Maine'],\n",
       " ['Bangor', 'Maine'],\n",
       " ['Waterville', 'Maine'],\n",
       " ['Augusta', 'Maine'],\n",
       " ['Lewiston', 'Maine'],\n",
       " ['Portland', 'Maine'],\n",
       " ['Salem', 'Massachusetts'],\n",
       " ['New Bedford', 'Massachusetts'],\n",
       " ['Boston', 'Massachusetts'],\n",
       " ['Newport', 'Rhode Island'],\n",
       " ['Lowell', 'Massachusetts'],\n",
       " ['Providence', 'Rhode Island'],\n",
       " ['Manchester', 'New Hampshire'],\n",
       " ['Concord', 'New Hampshire'],\n",
       " ['Worcester', 'Massachusetts'],\n",
       " ['New London', 'Connecticut'],\n",
       " ['Montpelier', 'Vermont']]"
      ]
     },
     "execution_count": 4,
     "metadata": {},
     "output_type": "execute_result"
    }
   ],
   "source": [
    "#Short list of city and states to run my code on\n",
    "test_city_state = city_state[:20]\n",
    "\n",
    "test_city_state"
   ]
  },
  {
   "cell_type": "code",
   "execution_count": 5,
   "id": "8a226b08",
   "metadata": {
    "execution": {
     "iopub.execute_input": "2022-09-01T05:03:58.922191Z",
     "iopub.status.busy": "2022-09-01T05:03:58.921490Z",
     "iopub.status.idle": "2022-09-01T05:04:18.586086Z",
     "shell.execute_reply": "2022-09-01T05:04:18.585011Z"
    },
    "papermill": {
     "duration": 19.674311,
     "end_time": "2022-09-01T05:04:18.588480",
     "exception": false,
     "start_time": "2022-09-01T05:03:58.914169",
     "status": "completed"
    },
    "tags": []
   },
   "outputs": [
    {
     "data": {
      "text/html": [
       "<div>\n",
       "<style scoped>\n",
       "    .dataframe tbody tr th:only-of-type {\n",
       "        vertical-align: middle;\n",
       "    }\n",
       "\n",
       "    .dataframe tbody tr th {\n",
       "        vertical-align: top;\n",
       "    }\n",
       "\n",
       "    .dataframe thead th {\n",
       "        text-align: right;\n",
       "    }\n",
       "</style>\n",
       "<table border=\"1\" class=\"dataframe\">\n",
       "  <thead>\n",
       "    <tr style=\"text-align: right;\">\n",
       "      <th></th>\n",
       "      <th>Data Center</th>\n",
       "      <th>Company</th>\n",
       "      <th>Address</th>\n",
       "      <th>City</th>\n",
       "      <th>State</th>\n",
       "    </tr>\n",
       "  </thead>\n",
       "  <tbody>\n",
       "    <tr>\n",
       "      <th>0</th>\n",
       "      <td>105 Cabot Street</td>\n",
       "      <td>Digital Realty</td>\n",
       "      <td>105 Cabot Street</td>\n",
       "      <td>Needham</td>\n",
       "      <td>Massachusetts</td>\n",
       "    </tr>\n",
       "    <tr>\n",
       "      <th>1</th>\n",
       "      <td>128 First Avenue</td>\n",
       "      <td>Digital Realty</td>\n",
       "      <td>128 First Avenue</td>\n",
       "      <td>Needham</td>\n",
       "      <td>Massachusetts</td>\n",
       "    </tr>\n",
       "    <tr>\n",
       "      <th>2</th>\n",
       "      <td>500 E Rutherford Boston</td>\n",
       "      <td>Broadview Networks</td>\n",
       "      <td>500 E Rutherford</td>\n",
       "      <td>Boston</td>\n",
       "      <td>Massachusetts</td>\n",
       "    </tr>\n",
       "    <tr>\n",
       "      <th>3</th>\n",
       "      <td>55 Middlesex</td>\n",
       "      <td>Digital Realty</td>\n",
       "      <td>55 Middlesex Turnpike</td>\n",
       "      <td>Bedford</td>\n",
       "      <td>Massachusetts</td>\n",
       "    </tr>\n",
       "    <tr>\n",
       "      <th>4</th>\n",
       "      <td>Boston North</td>\n",
       "      <td>Provdotnet, LLC</td>\n",
       "      <td>187 Billerica RD</td>\n",
       "      <td>Chelmsford</td>\n",
       "      <td>Massachusetts</td>\n",
       "    </tr>\n",
       "  </tbody>\n",
       "</table>\n",
       "</div>"
      ],
      "text/plain": [
       "               Data Center             Company                Address  \\\n",
       "0         105 Cabot Street      Digital Realty       105 Cabot Street   \n",
       "1         128 First Avenue      Digital Realty       128 First Avenue   \n",
       "2  500 E Rutherford Boston  Broadview Networks       500 E Rutherford   \n",
       "3             55 Middlesex      Digital Realty  55 Middlesex Turnpike   \n",
       "4             Boston North     Provdotnet, LLC       187 Billerica RD   \n",
       "\n",
       "         City          State  \n",
       "0     Needham  Massachusetts  \n",
       "1     Needham  Massachusetts  \n",
       "2      Boston  Massachusetts  \n",
       "3     Bedford  Massachusetts  \n",
       "4  Chelmsford  Massachusetts  "
      ]
     },
     "execution_count": 5,
     "metadata": {},
     "output_type": "execute_result"
    }
   ],
   "source": [
    "#Test based on the test_city_state input above. Not all of those cities will have data centers\n",
    "\n",
    "df_test = pd.DataFrame()\n",
    "df_state = pd.DataFrame()\n",
    "\n",
    "for city, state in test_city_state:\n",
    "    url_state = state\n",
    "    url_city = city\n",
    "    \n",
    "    url = url_domain + url_state + '/' + url_city + url_tail\n",
    "    html = requests.get(url).content\n",
    "    df_list = pd.read_html(html)\n",
    "    df = df_list[-1]\n",
    "    df['State'] = state\n",
    "    \n",
    "    if(len(df)>1):\n",
    "        df_test = pd.concat([df_test, df], ignore_index = True)\n",
    "        df_test = df_test.iloc[:,-5:]\n",
    "\n",
    "df_test.head()"
   ]
  },
  {
   "cell_type": "markdown",
   "id": "80c1d1f9",
   "metadata": {
    "execution": {
     "iopub.execute_input": "2022-09-01T05:00:31.216760Z",
     "iopub.status.busy": "2022-09-01T05:00:31.216265Z",
     "iopub.status.idle": "2022-09-01T05:00:31.222556Z",
     "shell.execute_reply": "2022-09-01T05:00:31.221243Z",
     "shell.execute_reply.started": "2022-09-01T05:00:31.216719Z"
    },
    "papermill": {
     "duration": 0.006,
     "end_time": "2022-09-01T05:04:18.600992",
     "exception": false,
     "start_time": "2022-09-01T05:04:18.594992",
     "status": "completed"
    },
    "tags": []
   },
   "source": [
    "### Begin full dataset code"
   ]
  },
  {
   "cell_type": "code",
   "execution_count": 6,
   "id": "56507499",
   "metadata": {
    "execution": {
     "iopub.execute_input": "2022-09-01T05:04:18.615427Z",
     "iopub.status.busy": "2022-09-01T05:04:18.614858Z",
     "iopub.status.idle": "2022-09-01T05:17:11.250462Z",
     "shell.execute_reply": "2022-09-01T05:17:11.249742Z"
    },
    "papermill": {
     "duration": 772.651627,
     "end_time": "2022-09-01T05:17:11.258997",
     "exception": false,
     "start_time": "2022-09-01T05:04:18.607370",
     "status": "completed"
    },
    "tags": []
   },
   "outputs": [
    {
     "data": {
      "text/html": [
       "<div>\n",
       "<style scoped>\n",
       "    .dataframe tbody tr th:only-of-type {\n",
       "        vertical-align: middle;\n",
       "    }\n",
       "\n",
       "    .dataframe tbody tr th {\n",
       "        vertical-align: top;\n",
       "    }\n",
       "\n",
       "    .dataframe thead th {\n",
       "        text-align: right;\n",
       "    }\n",
       "</style>\n",
       "<table border=\"1\" class=\"dataframe\">\n",
       "  <thead>\n",
       "    <tr style=\"text-align: right;\">\n",
       "      <th></th>\n",
       "      <th>Data Center</th>\n",
       "      <th>Company</th>\n",
       "      <th>Address</th>\n",
       "      <th>City</th>\n",
       "      <th>State</th>\n",
       "    </tr>\n",
       "  </thead>\n",
       "  <tbody>\n",
       "    <tr>\n",
       "      <th>0</th>\n",
       "      <td>105 Cabot Street</td>\n",
       "      <td>Digital Realty</td>\n",
       "      <td>105 Cabot Street</td>\n",
       "      <td>Needham</td>\n",
       "      <td>Massachusetts</td>\n",
       "    </tr>\n",
       "    <tr>\n",
       "      <th>1</th>\n",
       "      <td>128 First Avenue</td>\n",
       "      <td>Digital Realty</td>\n",
       "      <td>128 First Avenue</td>\n",
       "      <td>Needham</td>\n",
       "      <td>Massachusetts</td>\n",
       "    </tr>\n",
       "    <tr>\n",
       "      <th>2</th>\n",
       "      <td>500 E Rutherford Boston</td>\n",
       "      <td>Broadview Networks</td>\n",
       "      <td>500 E Rutherford</td>\n",
       "      <td>Boston</td>\n",
       "      <td>Massachusetts</td>\n",
       "    </tr>\n",
       "    <tr>\n",
       "      <th>3</th>\n",
       "      <td>55 Middlesex</td>\n",
       "      <td>Digital Realty</td>\n",
       "      <td>55 Middlesex Turnpike</td>\n",
       "      <td>Bedford</td>\n",
       "      <td>Massachusetts</td>\n",
       "    </tr>\n",
       "    <tr>\n",
       "      <th>4</th>\n",
       "      <td>Boston North</td>\n",
       "      <td>Provdotnet, LLC</td>\n",
       "      <td>187 Billerica RD</td>\n",
       "      <td>Chelmsford</td>\n",
       "      <td>Massachusetts</td>\n",
       "    </tr>\n",
       "  </tbody>\n",
       "</table>\n",
       "</div>"
      ],
      "text/plain": [
       "               Data Center             Company                Address  \\\n",
       "0         105 Cabot Street      Digital Realty       105 Cabot Street   \n",
       "1         128 First Avenue      Digital Realty       128 First Avenue   \n",
       "2  500 E Rutherford Boston  Broadview Networks       500 E Rutherford   \n",
       "3             55 Middlesex      Digital Realty  55 Middlesex Turnpike   \n",
       "4             Boston North     Provdotnet, LLC       187 Billerica RD   \n",
       "\n",
       "         City          State  \n",
       "0     Needham  Massachusetts  \n",
       "1     Needham  Massachusetts  \n",
       "2      Boston  Massachusetts  \n",
       "3     Bedford  Massachusetts  \n",
       "4  Chelmsford  Massachusetts  "
      ]
     },
     "execution_count": 6,
     "metadata": {},
     "output_type": "execute_result"
    }
   ],
   "source": [
    "# Script to scrape data from the first website and pull all relevant information into a pandas dataframe\n",
    "df_data_centers = pd.DataFrame()\n",
    "\n",
    "for city, state in city_state:\n",
    "    url_state = state\n",
    "    url_city = city\n",
    "        \n",
    "    url = url_domain + url_state + '/' + url_city + url_tail\n",
    "    html = requests.get(url).content\n",
    "    df_list = pd.read_html(html)\n",
    "    df = df_list[-1]\n",
    "    df['State'] = state\n",
    "    \n",
    "    if len(df)>1:\n",
    "        df_data_centers = pd.concat([df_data_centers, df], ignore_index = True)\n",
    "        df_data_centers = df_data_centers.iloc[:,-5:]\n",
    "\n",
    "df_data_centers.head()"
   ]
  },
  {
   "cell_type": "code",
   "execution_count": 7,
   "id": "5691f55d",
   "metadata": {
    "execution": {
     "iopub.execute_input": "2022-09-01T05:17:11.274363Z",
     "iopub.status.busy": "2022-09-01T05:17:11.273783Z",
     "iopub.status.idle": "2022-09-01T05:30:37.829813Z",
     "shell.execute_reply": "2022-09-01T05:30:37.828677Z"
    },
    "papermill": {
     "duration": 806.566891,
     "end_time": "2022-09-01T05:30:37.832525",
     "exception": false,
     "start_time": "2022-09-01T05:17:11.265634",
     "status": "completed"
    },
    "tags": []
   },
   "outputs": [],
   "source": [
    "#Based on the address, city, and state determine the longitude and latitude for each data center location\n",
    "\n",
    "lat_list = []\n",
    "lon_list = []\n",
    "\n",
    "for row in df_data_centers.values:\n",
    "    address = row[2]\n",
    "    city = row[3]\n",
    "    state = row[4]\n",
    "    \n",
    "    full_address = address + ', ' + city + ', ' + state\n",
    "\n",
    "    app = Nominatim(user_agent=\"test\")\n",
    "    address = \"First St SE, Washington, DC 20004, United States\"\n",
    "\n",
    "    location = app.geocode(address).raw\n",
    "\n",
    "    lat_list.append(location['lat'])\n",
    "    lon_list.append(location['lon'])"
   ]
  },
  {
   "cell_type": "code",
   "execution_count": 8,
   "id": "a6e5a867",
   "metadata": {
    "execution": {
     "iopub.execute_input": "2022-09-01T05:30:37.849075Z",
     "iopub.status.busy": "2022-09-01T05:30:37.848004Z",
     "iopub.status.idle": "2022-09-01T05:30:37.854959Z",
     "shell.execute_reply": "2022-09-01T05:30:37.853635Z"
    },
    "papermill": {
     "duration": 0.017607,
     "end_time": "2022-09-01T05:30:37.857505",
     "exception": false,
     "start_time": "2022-09-01T05:30:37.839898",
     "status": "completed"
    },
    "tags": []
   },
   "outputs": [
    {
     "name": "stdout",
     "output_type": "stream",
     "text": [
      "550 Paiea St, Honolulu, Hawaii {'place_id': 233704022, 'licence': 'Data © OpenStreetMap contributors, ODbL 1.0. https://osm.org/copyright', 'osm_type': 'way', 'osm_id': 633517694, 'boundingbox': ['38.8715756', '38.8716329', '-77.005816', '-77.0057159'], 'lat': '38.8716329', 'lon': '-77.005766', 'display_name': 'First Street Southeast, Navy Yard, Washington, District of Columbia, 20590, United States', 'class': 'highway', 'type': 'footway', 'importance': 0.585}\n"
     ]
    }
   ],
   "source": [
    "print(full_address, location)"
   ]
  },
  {
   "cell_type": "code",
   "execution_count": 9,
   "id": "c58a647e",
   "metadata": {
    "execution": {
     "iopub.execute_input": "2022-09-01T05:30:37.872925Z",
     "iopub.status.busy": "2022-09-01T05:30:37.872499Z",
     "iopub.status.idle": "2022-09-01T05:30:37.878085Z",
     "shell.execute_reply": "2022-09-01T05:30:37.877011Z"
    },
    "papermill": {
     "duration": 0.016161,
     "end_time": "2022-09-01T05:30:37.880640",
     "exception": false,
     "start_time": "2022-09-01T05:30:37.864479",
     "status": "completed"
    },
    "tags": []
   },
   "outputs": [
    {
     "name": "stdout",
     "output_type": "stream",
     "text": [
      "latitude list: 969 longitutude list: 969\n"
     ]
    }
   ],
   "source": [
    "print('latitude list:', len(lat_list),'longitutude list:', len(lon_list))"
   ]
  },
  {
   "cell_type": "code",
   "execution_count": 10,
   "id": "5d3652f0",
   "metadata": {
    "execution": {
     "iopub.execute_input": "2022-09-01T05:30:37.896513Z",
     "iopub.status.busy": "2022-09-01T05:30:37.895366Z",
     "iopub.status.idle": "2022-09-01T05:30:37.902113Z",
     "shell.execute_reply": "2022-09-01T05:30:37.901325Z"
    },
    "papermill": {
     "duration": 0.016908,
     "end_time": "2022-09-01T05:30:37.904382",
     "exception": false,
     "start_time": "2022-09-01T05:30:37.887474",
     "status": "completed"
    },
    "tags": []
   },
   "outputs": [],
   "source": [
    "#Append the longitutde and latitude to the complete data frame\n",
    "\n",
    "df_data_centers['lat'] = lat_list\n",
    "df_data_centers['lon'] = lon_list"
   ]
  },
  {
   "cell_type": "code",
   "execution_count": 11,
   "id": "251c0945",
   "metadata": {
    "execution": {
     "iopub.execute_input": "2022-09-01T05:30:37.920029Z",
     "iopub.status.busy": "2022-09-01T05:30:37.919317Z",
     "iopub.status.idle": "2022-09-01T05:30:37.932776Z",
     "shell.execute_reply": "2022-09-01T05:30:37.931710Z"
    },
    "papermill": {
     "duration": 0.023378,
     "end_time": "2022-09-01T05:30:37.934858",
     "exception": false,
     "start_time": "2022-09-01T05:30:37.911480",
     "status": "completed"
    },
    "tags": []
   },
   "outputs": [
    {
     "data": {
      "text/html": [
       "<div>\n",
       "<style scoped>\n",
       "    .dataframe tbody tr th:only-of-type {\n",
       "        vertical-align: middle;\n",
       "    }\n",
       "\n",
       "    .dataframe tbody tr th {\n",
       "        vertical-align: top;\n",
       "    }\n",
       "\n",
       "    .dataframe thead th {\n",
       "        text-align: right;\n",
       "    }\n",
       "</style>\n",
       "<table border=\"1\" class=\"dataframe\">\n",
       "  <thead>\n",
       "    <tr style=\"text-align: right;\">\n",
       "      <th></th>\n",
       "      <th>Data Center</th>\n",
       "      <th>Company</th>\n",
       "      <th>Address</th>\n",
       "      <th>City</th>\n",
       "      <th>State</th>\n",
       "      <th>lat</th>\n",
       "      <th>lon</th>\n",
       "    </tr>\n",
       "  </thead>\n",
       "  <tbody>\n",
       "    <tr>\n",
       "      <th>0</th>\n",
       "      <td>105 Cabot Street</td>\n",
       "      <td>Digital Realty</td>\n",
       "      <td>105 Cabot Street</td>\n",
       "      <td>Needham</td>\n",
       "      <td>Massachusetts</td>\n",
       "      <td>38.8716329</td>\n",
       "      <td>-77.005766</td>\n",
       "    </tr>\n",
       "    <tr>\n",
       "      <th>1</th>\n",
       "      <td>128 First Avenue</td>\n",
       "      <td>Digital Realty</td>\n",
       "      <td>128 First Avenue</td>\n",
       "      <td>Needham</td>\n",
       "      <td>Massachusetts</td>\n",
       "      <td>38.8716329</td>\n",
       "      <td>-77.005766</td>\n",
       "    </tr>\n",
       "    <tr>\n",
       "      <th>2</th>\n",
       "      <td>500 E Rutherford Boston</td>\n",
       "      <td>Broadview Networks</td>\n",
       "      <td>500 E Rutherford</td>\n",
       "      <td>Boston</td>\n",
       "      <td>Massachusetts</td>\n",
       "      <td>38.8716329</td>\n",
       "      <td>-77.005766</td>\n",
       "    </tr>\n",
       "    <tr>\n",
       "      <th>3</th>\n",
       "      <td>55 Middlesex</td>\n",
       "      <td>Digital Realty</td>\n",
       "      <td>55 Middlesex Turnpike</td>\n",
       "      <td>Bedford</td>\n",
       "      <td>Massachusetts</td>\n",
       "      <td>38.8716329</td>\n",
       "      <td>-77.005766</td>\n",
       "    </tr>\n",
       "    <tr>\n",
       "      <th>4</th>\n",
       "      <td>Boston North</td>\n",
       "      <td>Provdotnet, LLC</td>\n",
       "      <td>187 Billerica RD</td>\n",
       "      <td>Chelmsford</td>\n",
       "      <td>Massachusetts</td>\n",
       "      <td>38.8716329</td>\n",
       "      <td>-77.005766</td>\n",
       "    </tr>\n",
       "  </tbody>\n",
       "</table>\n",
       "</div>"
      ],
      "text/plain": [
       "               Data Center             Company                Address  \\\n",
       "0         105 Cabot Street      Digital Realty       105 Cabot Street   \n",
       "1         128 First Avenue      Digital Realty       128 First Avenue   \n",
       "2  500 E Rutherford Boston  Broadview Networks       500 E Rutherford   \n",
       "3             55 Middlesex      Digital Realty  55 Middlesex Turnpike   \n",
       "4             Boston North     Provdotnet, LLC       187 Billerica RD   \n",
       "\n",
       "         City          State         lat         lon  \n",
       "0     Needham  Massachusetts  38.8716329  -77.005766  \n",
       "1     Needham  Massachusetts  38.8716329  -77.005766  \n",
       "2      Boston  Massachusetts  38.8716329  -77.005766  \n",
       "3     Bedford  Massachusetts  38.8716329  -77.005766  \n",
       "4  Chelmsford  Massachusetts  38.8716329  -77.005766  "
      ]
     },
     "execution_count": 11,
     "metadata": {},
     "output_type": "execute_result"
    }
   ],
   "source": [
    "df_data_centers.head()"
   ]
  },
  {
   "cell_type": "code",
   "execution_count": 12,
   "id": "87b684b2",
   "metadata": {
    "execution": {
     "iopub.execute_input": "2022-09-01T05:30:37.948909Z",
     "iopub.status.busy": "2022-09-01T05:30:37.948563Z",
     "iopub.status.idle": "2022-09-01T05:30:37.959485Z",
     "shell.execute_reply": "2022-09-01T05:30:37.958708Z"
    },
    "papermill": {
     "duration": 0.020355,
     "end_time": "2022-09-01T05:30:37.961588",
     "exception": false,
     "start_time": "2022-09-01T05:30:37.941233",
     "status": "completed"
    },
    "tags": []
   },
   "outputs": [],
   "source": [
    "#Store the data frame as a CSV to speed up revisions\n",
    "\n",
    "filepath = Path('./data_centers.csv')  \n",
    "filepath.parent.mkdir(parents=True, exist_ok=True)  \n",
    "df_data_centers.to_csv(filepath)  "
   ]
  },
  {
   "cell_type": "code",
   "execution_count": 13,
   "id": "6786079f",
   "metadata": {
    "execution": {
     "iopub.execute_input": "2022-09-01T05:30:37.976416Z",
     "iopub.status.busy": "2022-09-01T05:30:37.976074Z",
     "iopub.status.idle": "2022-09-01T05:30:37.998512Z",
     "shell.execute_reply": "2022-09-01T05:30:37.997738Z"
    },
    "papermill": {
     "duration": 0.032174,
     "end_time": "2022-09-01T05:30:38.000569",
     "exception": false,
     "start_time": "2022-09-01T05:30:37.968395",
     "status": "completed"
    },
    "tags": []
   },
   "outputs": [
    {
     "data": {
      "text/html": [
       "<div>\n",
       "<style scoped>\n",
       "    .dataframe tbody tr th:only-of-type {\n",
       "        vertical-align: middle;\n",
       "    }\n",
       "\n",
       "    .dataframe tbody tr th {\n",
       "        vertical-align: top;\n",
       "    }\n",
       "\n",
       "    .dataframe thead th {\n",
       "        text-align: right;\n",
       "    }\n",
       "</style>\n",
       "<table border=\"1\" class=\"dataframe\">\n",
       "  <thead>\n",
       "    <tr style=\"text-align: right;\">\n",
       "      <th></th>\n",
       "      <th>Data Center</th>\n",
       "      <th>Company</th>\n",
       "      <th>White space</th>\n",
       "      <th>Gross power</th>\n",
       "    </tr>\n",
       "  </thead>\n",
       "  <tbody>\n",
       "    <tr>\n",
       "      <th>0</th>\n",
       "      <td>Southfield</td>\n",
       "      <td>123 NET</td>\n",
       "      <td>-</td>\n",
       "      <td>-</td>\n",
       "    </tr>\n",
       "    <tr>\n",
       "      <th>1</th>\n",
       "      <td>325 Hudson Street</td>\n",
       "      <td>325 Hudson Street</td>\n",
       "      <td>-</td>\n",
       "      <td>-</td>\n",
       "    </tr>\n",
       "    <tr>\n",
       "      <th>2</th>\n",
       "      <td>360TCS</td>\n",
       "      <td>360TCS</td>\n",
       "      <td>-</td>\n",
       "      <td>-</td>\n",
       "    </tr>\n",
       "    <tr>\n",
       "      <th>3</th>\n",
       "      <td>Buffalo</td>\n",
       "      <td>365 Data Centers</td>\n",
       "      <td>1055 m²</td>\n",
       "      <td>-</td>\n",
       "    </tr>\n",
       "    <tr>\n",
       "      <th>4</th>\n",
       "      <td>Chicago</td>\n",
       "      <td>365 Data Centers</td>\n",
       "      <td>1279 m²</td>\n",
       "      <td>-</td>\n",
       "    </tr>\n",
       "  </tbody>\n",
       "</table>\n",
       "</div>"
      ],
      "text/plain": [
       "         Data Center            Company White space Gross power\n",
       "0         Southfield            123 NET           -           -\n",
       "1  325 Hudson Street  325 Hudson Street           -           -\n",
       "2             360TCS             360TCS           -           -\n",
       "3            Buffalo   365 Data Centers     1055 m²           -\n",
       "4            Chicago   365 Data Centers     1279 m²           -"
      ]
     },
     "execution_count": 13,
     "metadata": {},
     "output_type": "execute_result"
    }
   ],
   "source": [
    "#Obtained another dataset from the second link in the citation above\n",
    "\n",
    "df_dc_info = pd.read_csv('../input/datacenter-locations/datacenter_info.csv')\n",
    "df_dc_info.head()"
   ]
  },
  {
   "cell_type": "code",
   "execution_count": 14,
   "id": "2c9b4366",
   "metadata": {
    "execution": {
     "iopub.execute_input": "2022-09-01T05:30:38.016581Z",
     "iopub.status.busy": "2022-09-01T05:30:38.015953Z",
     "iopub.status.idle": "2022-09-01T05:30:38.030925Z",
     "shell.execute_reply": "2022-09-01T05:30:38.030082Z"
    },
    "papermill": {
     "duration": 0.02551,
     "end_time": "2022-09-01T05:30:38.033211",
     "exception": false,
     "start_time": "2022-09-01T05:30:38.007701",
     "status": "completed"
    },
    "tags": []
   },
   "outputs": [],
   "source": [
    "#Remove unnecessary alphanumeric characters from these two columns and conver to int\n",
    "\n",
    "df_dc_info['White space'] = df_dc_info['White space'].str.extract('(\\d+)').dropna().astype(int)\n",
    "df_dc_info['Gross power'] = df_dc_info['Gross power'].str.extract('(\\d+)').dropna().astype(int)"
   ]
  },
  {
   "cell_type": "code",
   "execution_count": 15,
   "id": "738a7523",
   "metadata": {
    "execution": {
     "iopub.execute_input": "2022-09-01T05:30:38.049209Z",
     "iopub.status.busy": "2022-09-01T05:30:38.048655Z",
     "iopub.status.idle": "2022-09-01T05:30:38.059559Z",
     "shell.execute_reply": "2022-09-01T05:30:38.058565Z"
    },
    "papermill": {
     "duration": 0.021284,
     "end_time": "2022-09-01T05:30:38.061619",
     "exception": false,
     "start_time": "2022-09-01T05:30:38.040335",
     "status": "completed"
    },
    "tags": []
   },
   "outputs": [
    {
     "data": {
      "text/html": [
       "<div>\n",
       "<style scoped>\n",
       "    .dataframe tbody tr th:only-of-type {\n",
       "        vertical-align: middle;\n",
       "    }\n",
       "\n",
       "    .dataframe tbody tr th {\n",
       "        vertical-align: top;\n",
       "    }\n",
       "\n",
       "    .dataframe thead th {\n",
       "        text-align: right;\n",
       "    }\n",
       "</style>\n",
       "<table border=\"1\" class=\"dataframe\">\n",
       "  <thead>\n",
       "    <tr style=\"text-align: right;\">\n",
       "      <th></th>\n",
       "      <th>Data Center</th>\n",
       "      <th>Company</th>\n",
       "      <th>White space</th>\n",
       "      <th>Gross power</th>\n",
       "    </tr>\n",
       "  </thead>\n",
       "  <tbody>\n",
       "    <tr>\n",
       "      <th>0</th>\n",
       "      <td>Southfield</td>\n",
       "      <td>123 NET</td>\n",
       "      <td>NaN</td>\n",
       "      <td>NaN</td>\n",
       "    </tr>\n",
       "    <tr>\n",
       "      <th>1</th>\n",
       "      <td>325 Hudson Street</td>\n",
       "      <td>325 Hudson Street</td>\n",
       "      <td>NaN</td>\n",
       "      <td>NaN</td>\n",
       "    </tr>\n",
       "    <tr>\n",
       "      <th>2</th>\n",
       "      <td>360TCS</td>\n",
       "      <td>360TCS</td>\n",
       "      <td>NaN</td>\n",
       "      <td>NaN</td>\n",
       "    </tr>\n",
       "    <tr>\n",
       "      <th>3</th>\n",
       "      <td>Buffalo</td>\n",
       "      <td>365 Data Centers</td>\n",
       "      <td>1055.0</td>\n",
       "      <td>NaN</td>\n",
       "    </tr>\n",
       "    <tr>\n",
       "      <th>4</th>\n",
       "      <td>Chicago</td>\n",
       "      <td>365 Data Centers</td>\n",
       "      <td>1279.0</td>\n",
       "      <td>NaN</td>\n",
       "    </tr>\n",
       "  </tbody>\n",
       "</table>\n",
       "</div>"
      ],
      "text/plain": [
       "         Data Center            Company  White space  Gross power\n",
       "0         Southfield            123 NET          NaN          NaN\n",
       "1  325 Hudson Street  325 Hudson Street          NaN          NaN\n",
       "2             360TCS             360TCS          NaN          NaN\n",
       "3            Buffalo   365 Data Centers       1055.0          NaN\n",
       "4            Chicago   365 Data Centers       1279.0          NaN"
      ]
     },
     "execution_count": 15,
     "metadata": {},
     "output_type": "execute_result"
    }
   ],
   "source": [
    "df_dc_info.head()"
   ]
  },
  {
   "cell_type": "code",
   "execution_count": 16,
   "id": "6085b914",
   "metadata": {
    "execution": {
     "iopub.execute_input": "2022-09-01T05:30:38.077247Z",
     "iopub.status.busy": "2022-09-01T05:30:38.076722Z",
     "iopub.status.idle": "2022-09-01T05:30:38.087670Z",
     "shell.execute_reply": "2022-09-01T05:30:38.086984Z"
    },
    "papermill": {
     "duration": 0.021312,
     "end_time": "2022-09-01T05:30:38.089855",
     "exception": false,
     "start_time": "2022-09-01T05:30:38.068543",
     "status": "completed"
    },
    "tags": []
   },
   "outputs": [
    {
     "data": {
      "text/html": [
       "<div>\n",
       "<style scoped>\n",
       "    .dataframe tbody tr th:only-of-type {\n",
       "        vertical-align: middle;\n",
       "    }\n",
       "\n",
       "    .dataframe tbody tr th {\n",
       "        vertical-align: top;\n",
       "    }\n",
       "\n",
       "    .dataframe thead th {\n",
       "        text-align: right;\n",
       "    }\n",
       "</style>\n",
       "<table border=\"1\" class=\"dataframe\">\n",
       "  <thead>\n",
       "    <tr style=\"text-align: right;\">\n",
       "      <th></th>\n",
       "      <th>Data Center</th>\n",
       "      <th>Company</th>\n",
       "      <th>Address</th>\n",
       "      <th>City</th>\n",
       "      <th>State</th>\n",
       "      <th>lat</th>\n",
       "      <th>lon</th>\n",
       "    </tr>\n",
       "  </thead>\n",
       "  <tbody>\n",
       "    <tr>\n",
       "      <th>0</th>\n",
       "      <td>105 Cabot Street</td>\n",
       "      <td>Digital Realty</td>\n",
       "      <td>105 Cabot Street</td>\n",
       "      <td>Needham</td>\n",
       "      <td>Massachusetts</td>\n",
       "      <td>38.8716329</td>\n",
       "      <td>-77.005766</td>\n",
       "    </tr>\n",
       "    <tr>\n",
       "      <th>1</th>\n",
       "      <td>128 First Avenue</td>\n",
       "      <td>Digital Realty</td>\n",
       "      <td>128 First Avenue</td>\n",
       "      <td>Needham</td>\n",
       "      <td>Massachusetts</td>\n",
       "      <td>38.8716329</td>\n",
       "      <td>-77.005766</td>\n",
       "    </tr>\n",
       "    <tr>\n",
       "      <th>2</th>\n",
       "      <td>500 E Rutherford Boston</td>\n",
       "      <td>Broadview Networks</td>\n",
       "      <td>500 E Rutherford</td>\n",
       "      <td>Boston</td>\n",
       "      <td>Massachusetts</td>\n",
       "      <td>38.8716329</td>\n",
       "      <td>-77.005766</td>\n",
       "    </tr>\n",
       "    <tr>\n",
       "      <th>3</th>\n",
       "      <td>55 Middlesex</td>\n",
       "      <td>Digital Realty</td>\n",
       "      <td>55 Middlesex Turnpike</td>\n",
       "      <td>Bedford</td>\n",
       "      <td>Massachusetts</td>\n",
       "      <td>38.8716329</td>\n",
       "      <td>-77.005766</td>\n",
       "    </tr>\n",
       "    <tr>\n",
       "      <th>4</th>\n",
       "      <td>Boston North</td>\n",
       "      <td>Provdotnet, LLC</td>\n",
       "      <td>187 Billerica RD</td>\n",
       "      <td>Chelmsford</td>\n",
       "      <td>Massachusetts</td>\n",
       "      <td>38.8716329</td>\n",
       "      <td>-77.005766</td>\n",
       "    </tr>\n",
       "  </tbody>\n",
       "</table>\n",
       "</div>"
      ],
      "text/plain": [
       "               Data Center             Company                Address  \\\n",
       "0         105 Cabot Street      Digital Realty       105 Cabot Street   \n",
       "1         128 First Avenue      Digital Realty       128 First Avenue   \n",
       "2  500 E Rutherford Boston  Broadview Networks       500 E Rutherford   \n",
       "3             55 Middlesex      Digital Realty  55 Middlesex Turnpike   \n",
       "4             Boston North     Provdotnet, LLC       187 Billerica RD   \n",
       "\n",
       "         City          State         lat         lon  \n",
       "0     Needham  Massachusetts  38.8716329  -77.005766  \n",
       "1     Needham  Massachusetts  38.8716329  -77.005766  \n",
       "2      Boston  Massachusetts  38.8716329  -77.005766  \n",
       "3     Bedford  Massachusetts  38.8716329  -77.005766  \n",
       "4  Chelmsford  Massachusetts  38.8716329  -77.005766  "
      ]
     },
     "execution_count": 16,
     "metadata": {},
     "output_type": "execute_result"
    }
   ],
   "source": [
    "df_data_centers.head()"
   ]
  },
  {
   "cell_type": "code",
   "execution_count": 17,
   "id": "018006ca",
   "metadata": {
    "execution": {
     "iopub.execute_input": "2022-09-01T05:30:38.106897Z",
     "iopub.status.busy": "2022-09-01T05:30:38.106275Z",
     "iopub.status.idle": "2022-09-01T05:30:38.132414Z",
     "shell.execute_reply": "2022-09-01T05:30:38.131642Z"
    },
    "papermill": {
     "duration": 0.037176,
     "end_time": "2022-09-01T05:30:38.134569",
     "exception": false,
     "start_time": "2022-09-01T05:30:38.097393",
     "status": "completed"
    },
    "tags": []
   },
   "outputs": [
    {
     "data": {
      "text/html": [
       "<div>\n",
       "<style scoped>\n",
       "    .dataframe tbody tr th:only-of-type {\n",
       "        vertical-align: middle;\n",
       "    }\n",
       "\n",
       "    .dataframe tbody tr th {\n",
       "        vertical-align: top;\n",
       "    }\n",
       "\n",
       "    .dataframe thead th {\n",
       "        text-align: right;\n",
       "    }\n",
       "</style>\n",
       "<table border=\"1\" class=\"dataframe\">\n",
       "  <thead>\n",
       "    <tr style=\"text-align: right;\">\n",
       "      <th></th>\n",
       "      <th>Data Center</th>\n",
       "      <th>Company</th>\n",
       "      <th>Address</th>\n",
       "      <th>City</th>\n",
       "      <th>State</th>\n",
       "      <th>lat</th>\n",
       "      <th>lon</th>\n",
       "      <th>White space</th>\n",
       "      <th>Gross power</th>\n",
       "    </tr>\n",
       "  </thead>\n",
       "  <tbody>\n",
       "    <tr>\n",
       "      <th>0</th>\n",
       "      <td>105 Cabot Street</td>\n",
       "      <td>Digital Realty</td>\n",
       "      <td>105 Cabot Street</td>\n",
       "      <td>Needham</td>\n",
       "      <td>Massachusetts</td>\n",
       "      <td>38.8716329</td>\n",
       "      <td>-77.005766</td>\n",
       "      <td>NaN</td>\n",
       "      <td>NaN</td>\n",
       "    </tr>\n",
       "    <tr>\n",
       "      <th>1</th>\n",
       "      <td>128 First Avenue</td>\n",
       "      <td>Digital Realty</td>\n",
       "      <td>128 First Avenue</td>\n",
       "      <td>Needham</td>\n",
       "      <td>Massachusetts</td>\n",
       "      <td>38.8716329</td>\n",
       "      <td>-77.005766</td>\n",
       "      <td>NaN</td>\n",
       "      <td>NaN</td>\n",
       "    </tr>\n",
       "    <tr>\n",
       "      <th>2</th>\n",
       "      <td>500 E Rutherford Boston</td>\n",
       "      <td>Broadview Networks</td>\n",
       "      <td>500 E Rutherford</td>\n",
       "      <td>Boston</td>\n",
       "      <td>Massachusetts</td>\n",
       "      <td>38.8716329</td>\n",
       "      <td>-77.005766</td>\n",
       "      <td>NaN</td>\n",
       "      <td>NaN</td>\n",
       "    </tr>\n",
       "    <tr>\n",
       "      <th>3</th>\n",
       "      <td>55 Middlesex</td>\n",
       "      <td>Digital Realty</td>\n",
       "      <td>55 Middlesex Turnpike</td>\n",
       "      <td>Bedford</td>\n",
       "      <td>Massachusetts</td>\n",
       "      <td>38.8716329</td>\n",
       "      <td>-77.005766</td>\n",
       "      <td>NaN</td>\n",
       "      <td>NaN</td>\n",
       "    </tr>\n",
       "    <tr>\n",
       "      <th>4</th>\n",
       "      <td>Boston North</td>\n",
       "      <td>Provdotnet, LLC</td>\n",
       "      <td>187 Billerica RD</td>\n",
       "      <td>Chelmsford</td>\n",
       "      <td>Massachusetts</td>\n",
       "      <td>38.8716329</td>\n",
       "      <td>-77.005766</td>\n",
       "      <td>NaN</td>\n",
       "      <td>NaN</td>\n",
       "    </tr>\n",
       "  </tbody>\n",
       "</table>\n",
       "</div>"
      ],
      "text/plain": [
       "               Data Center             Company                Address  \\\n",
       "0         105 Cabot Street      Digital Realty       105 Cabot Street   \n",
       "1         128 First Avenue      Digital Realty       128 First Avenue   \n",
       "2  500 E Rutherford Boston  Broadview Networks       500 E Rutherford   \n",
       "3             55 Middlesex      Digital Realty  55 Middlesex Turnpike   \n",
       "4             Boston North     Provdotnet, LLC       187 Billerica RD   \n",
       "\n",
       "         City          State         lat         lon  White space  Gross power  \n",
       "0     Needham  Massachusetts  38.8716329  -77.005766          NaN          NaN  \n",
       "1     Needham  Massachusetts  38.8716329  -77.005766          NaN          NaN  \n",
       "2      Boston  Massachusetts  38.8716329  -77.005766          NaN          NaN  \n",
       "3     Bedford  Massachusetts  38.8716329  -77.005766          NaN          NaN  \n",
       "4  Chelmsford  Massachusetts  38.8716329  -77.005766          NaN          NaN  "
      ]
     },
     "execution_count": 17,
     "metadata": {},
     "output_type": "execute_result"
    }
   ],
   "source": [
    "#Attempt to merge based on two keys: Data Center and Company\n",
    "#Limitation - they have very different names in the company AND in the Data Center name\n",
    "#I don't expect much to be merged. Future improvement would be to clean up this mined data\n",
    "\n",
    "df_joined = df_data_centers.merge(df_dc_info, how = 'outer')\n",
    "\n",
    "df_joined.head()"
   ]
  },
  {
   "cell_type": "code",
   "execution_count": 18,
   "id": "02c2e193",
   "metadata": {
    "execution": {
     "iopub.execute_input": "2022-09-01T05:30:38.151851Z",
     "iopub.status.busy": "2022-09-01T05:30:38.151114Z",
     "iopub.status.idle": "2022-09-01T05:30:38.166143Z",
     "shell.execute_reply": "2022-09-01T05:30:38.165361Z"
    },
    "papermill": {
     "duration": 0.026142,
     "end_time": "2022-09-01T05:30:38.168416",
     "exception": false,
     "start_time": "2022-09-01T05:30:38.142274",
     "status": "completed"
    },
    "tags": []
   },
   "outputs": [],
   "source": [
    "#Store final dataset to be visualized on kepler\n",
    "\n",
    "filepath = Path('./data_centers_full.csv')  \n",
    "filepath.parent.mkdir(parents=True, exist_ok=True)  \n",
    "df_joined.to_csv(filepath)  "
   ]
  },
  {
   "cell_type": "markdown",
   "id": "ec0f4d08",
   "metadata": {
    "papermill": {
     "duration": 0.007365,
     "end_time": "2022-09-01T05:30:38.184054",
     "exception": false,
     "start_time": "2022-09-01T05:30:38.176689",
     "status": "completed"
    },
    "tags": []
   },
   "source": []
  }
 ],
 "metadata": {
  "kernelspec": {
   "display_name": "Python 3",
   "language": "python",
   "name": "python3"
  },
  "language_info": {
   "codemirror_mode": {
    "name": "ipython",
    "version": 3
   },
   "file_extension": ".py",
   "mimetype": "text/x-python",
   "name": "python",
   "nbconvert_exporter": "python",
   "pygments_lexer": "ipython3",
   "version": "3.7.12"
  },
  "papermill": {
   "default_parameters": {},
   "duration": 1609.563288,
   "end_time": "2022-09-01T05:30:38.916309",
   "environment_variables": {},
   "exception": null,
   "input_path": "__notebook__.ipynb",
   "output_path": "__notebook__.ipynb",
   "parameters": {},
   "start_time": "2022-09-01T05:03:49.353021",
   "version": "2.3.4"
  }
 },
 "nbformat": 4,
 "nbformat_minor": 5
}
